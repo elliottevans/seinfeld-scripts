{
 "cells": [
  {
   "cell_type": "markdown",
   "id": "60e17675-a3a9-49b2-b441-581691bc5941",
   "metadata": {
    "id": "60e17675-a3a9-49b2-b441-581691bc5941"
   },
   "source": [
    "# Character RNN Model"
   ]
  },
  {
   "cell_type": "code",
   "execution_count": 4,
   "id": "bb081106-5605-4d5f-83d5-34d46bce3c71",
   "metadata": {
    "id": "bb081106-5605-4d5f-83d5-34d46bce3c71"
   },
   "outputs": [],
   "source": [
    "import tensorflow as tf\n",
    "import numpy as np\n",
    "import pandas as pd\n",
    "import matplotlib\n",
    "from matplotlib import pyplot as plt\n",
    "from typing import List\n",
    "import subprocess\n",
    "from dataclasses import dataclass\n",
    "import tempfile\n",
    "import os\n",
    "import types\n",
    "from pathlib import Path\n",
    "\n",
    "\n",
    "from keras_visualizer import visualizer\n",
    "from IPython.display import Image\n",
    "from tensorflow.keras.preprocessing.sequence import pad_sequences\n",
    "from tensorflow.keras.layers import (\n",
    "    Embedding, LSTM, Dense, Bidirectional, Dropout\n",
    ")\n",
    "from tensorflow.keras.preprocessing.text import Tokenizer\n",
    "from tensorflow.keras.models import Sequential\n",
    "from tensorflow.keras.optimizers import Adam"
   ]
  },
  {
   "cell_type": "code",
   "execution_count": 5,
   "id": "99230ca6-d103-487a-825f-0f34d1485d7e",
   "metadata": {},
   "outputs": [
    {
     "name": "stdout",
     "output_type": "stream",
     "text": [
      "matplotlib==3.6.0\n",
      "numpy==1.23.2\n",
      "pandas==1.5.0\n",
      "tensorflow==2.10.0\n"
     ]
    }
   ],
   "source": [
    "packages = []\n",
    "\n",
    "for name, val in globals().items():\n",
    "    if isinstance(val, types.ModuleType):\n",
    "        try:\n",
    "            packages.append(f'{val.__name__}=={val.__version__}')\n",
    "        except AttributeError:\n",
    "            continue\n",
    "\n",
    "print('\\n'.join(sorted(set(packages))))"
   ]
  },
  {
   "cell_type": "code",
   "execution_count": 6,
   "id": "cca5e6e7-a2a0-4b0c-a3b2-be4bf2b68bd7",
   "metadata": {},
   "outputs": [],
   "source": [
    "os.chdir(os.path.join(Path.home(), 'seinfeld-scripts', 'notebooks'))"
   ]
  },
  {
   "cell_type": "code",
   "execution_count": 27,
   "id": "838b41a9-3c3d-4319-a1f3-ced1858c3161",
   "metadata": {},
   "outputs": [],
   "source": [
    "@dataclass\n",
    "class TokenParams:\n",
    "    distinct_chars: int\n",
    "    seq_length: int\n",
    "\n",
    "\n",
    "@dataclass\n",
    "class ModelConfigs:\n",
    "    embedding_dim: int = 100\n",
    "    lstm_units: int = 32\n",
    "    dense_dim: int = 64\n",
    "    dropout_prob: float = 0.8\n",
    "    learning_rate: int = 0.01\n",
    "\n",
    "\n",
    "@dataclass\n",
    "class FitConfigs:\n",
    "    epochs: int\n",
    "    batch_size: int\n",
    "    verbose: int"
   ]
  },
  {
   "cell_type": "markdown",
   "id": "ff57c5ca-92f8-4045-82c8-d8845ab7ba37",
   "metadata": {
    "id": "ff57c5ca-92f8-4045-82c8-d8845ab7ba37"
   },
   "source": [
    "## Read data"
   ]
  },
  {
   "cell_type": "code",
   "execution_count": 7,
   "id": "5f18fe1d-2262-43bf-a046-cc0c82d1bc01",
   "metadata": {},
   "outputs": [
    {
     "name": "stderr",
     "output_type": "stream",
     "text": [
      "100%|██████████| 1.09M/1.09M [00:00<00:00, 6.00MB/s]\n"
     ]
    },
    {
     "name": "stdout",
     "output_type": "stream",
     "text": [
      "Downloading seinfeld-scripts.zip to /var/folders/hm/_38_lcyj6r3bnwwpz7ztvd2w0000gn/T/tmpy13iyzml\n",
      "\n",
      "Archive:  /var/folders/hm/_38_lcyj6r3bnwwpz7ztvd2w0000gn/T/tmpy13iyzml/seinfeld-scripts.zip\n",
      "  inflating: /var/folders/hm/_38_lcyj6r3bnwwpz7ztvd2w0000gn/T/tmpy13iyzml/scripts.csv  \n"
     ]
    }
   ],
   "source": [
    "with tempfile.TemporaryDirectory() as tmpdir:        \n",
    "    subprocess.run([\n",
    "        'kaggle', \n",
    "        'datasets', \n",
    "        'download', \n",
    "        '--dataset=datascilin/seinfeld-scripts',\n",
    "        f'--path={tmpdir}'\n",
    "    ])\n",
    "    subprocess.run(f'unzip {tmpdir}/seinfeld-scripts.zip -d {tmpdir}'.split())\n",
    "    script_df = pd.read_csv(f'{tmpdir}/scripts.csv')"
   ]
  },
  {
   "cell_type": "code",
   "execution_count": 9,
   "id": "d30de2d7-33d1-4f24-8c0a-8d1d16c46568",
   "metadata": {
    "id": "d30de2d7-33d1-4f24-8c0a-8d1d16c46568"
   },
   "outputs": [],
   "source": [
    "msk_season = script_df['season'].isin([6, 7])\n",
    "# msk_episodes = script_df['episode'].isin(np.arange(1, 12))\n",
    "\n",
    "script_subset_df = script_df[\n",
    "    msk_season\n",
    "    # & msk_episodes\n",
    "]\n",
    "\n",
    "text = '\\n\\n'.join(\n",
    "    script_subset_df['character'] \n",
    "    + ': ' \n",
    "    + script_subset_df['dialogue']\n",
    ").lower()"
   ]
  },
  {
   "cell_type": "code",
   "execution_count": 10,
   "id": "32f5059c-071e-4aa9-a87d-b5175a39907e",
   "metadata": {
    "colab": {
     "base_uri": "https://localhost:8080/"
    },
    "id": "32f5059c-071e-4aa9-a87d-b5175a39907e",
    "outputId": "c39bff62-0204-41ce-a130-299d654933e3"
   },
   "outputs": [
    {
     "name": "stdout",
     "output_type": "stream",
     "text": [
      "Length of text: 828242 characters\n"
     ]
    }
   ],
   "source": [
    "# Load the dataset\n",
    "total_chars = len(text)\n",
    "print(f\"Length of text: {total_chars} characters\")"
   ]
  },
  {
   "cell_type": "code",
   "execution_count": 11,
   "id": "bd659b3e-9fad-4013-a521-355aead9c6fa",
   "metadata": {
    "colab": {
     "base_uri": "https://localhost:8080/"
    },
    "id": "bd659b3e-9fad-4013-a521-355aead9c6fa",
    "outputId": "f4820c71-5509-4c1b-e100-9e6e167a7683"
   },
   "outputs": [
    {
     "name": "stdout",
     "output_type": "stream",
     "text": [
      "george: o.k., danny, take a swing. n-no! no! no! you're opening up your shoulder.\n",
      "\n",
      "tartabull: really?\n",
      "\n",
      "george: no, not really. i'm just saying this to you because i like to hear myself talk. yes, really!\n",
      "\n",
      "tartabull: alright, alright.\n",
      "\n",
      "george: what are all sweatin' for?\n",
      "\n",
      "tartabull: it's hot in this uniform.\n",
      "\n",
      "george: hot? what is this?\n",
      "\n",
      "tartbull: what is what?\n",
      "\n",
      "george: this uniform, what's it made from?\n",
      "\n",
      "tartbull: i don't know, cotton?\n",
      "\n",
      "george: no. this is not cotton. here, lemme see. will you stop it? oh. of course. polyester!\n",
      "\n",
      "tartabull: so?\n",
      "\n",
      "george: i can't believe you're not playing in cotton.\n",
      "\n",
      "tartabull: well, this is what they give us.\n",
      "\n",
      "george: you know they used to make leisure suits out of this fabric?\n",
      "\n",
      "tartabull: you really think cot\n"
     ]
    }
   ],
   "source": [
    "# Take a look at the first 250 characters in text\n",
    "print(text[:750])"
   ]
  },
  {
   "cell_type": "markdown",
   "id": "eea209dc-8624-4cf5-91e4-28f2cf3e0b69",
   "metadata": {
    "id": "eea209dc-8624-4cf5-91e4-28f2cf3e0b69"
   },
   "source": [
    "## Building the Character Vocabulary"
   ]
  },
  {
   "cell_type": "code",
   "execution_count": 12,
   "id": "436d1e84-e0fb-4d87-9b8f-9109aa1b34e8",
   "metadata": {
    "colab": {
     "base_uri": "https://localhost:8080/"
    },
    "id": "436d1e84-e0fb-4d87-9b8f-9109aa1b34e8",
    "outputId": "fae0c6bc-fdb0-4800-c310-b8112dd83d0f"
   },
   "outputs": [
    {
     "name": "stdout",
     "output_type": "stream",
     "text": [
      "char index dictionary: {' ': 1, 'e': 2, 'o': 3, 't': 4, 'a': 5, 'r': 6, 'i': 7, 'n': 8, 'h': 9, 's': 10, '\\n': 11, 'l': 12, 'y': 13, '.': 14, 'u': 15, 'g': 16, 'm': 17, 'd': 18, 'w': 19, ':': 20, 'c': 21, 'k': 22, ',': 23, \"'\": 24, 'b': 25, 'p': 26, 'f': 27, 'j': 28, '?': 29, 'v': 30, '!': 31, '-': 32, 'x': 33, 'z': 34, '`': 35, 'q': 36, '*': 37, '0': 38, '1': 39, '2': 40, '5': 41, '3': 42, '4': 43, '#': 44, '8': 45, ';': 46, '9': 47, '7': 48, '[': 49, ']': 50, '6': 51, '/': 52, '$': 53, '(': 54, '&': 55, '%': 56, ')': 57, '_': 58, '{': 59, '}': 60}\n",
      "distinct chars: 61\n"
     ]
    }
   ],
   "source": [
    "# Initialize the Tokenizer class\n",
    "tokenizer = Tokenizer(char_level=True)\n",
    "\n",
    "# Generate the word index dictionary\n",
    "tokenizer.fit_on_texts([text])\n",
    "\n",
    "# +1 for the padding token\n",
    "distinct_chars = len(tokenizer.word_index) + 1\n",
    "\n",
    "print(f\"char index dictionary: {tokenizer.word_index}\")\n",
    "print(f\"distinct chars: {distinct_chars}\")"
   ]
  },
  {
   "cell_type": "markdown",
   "id": "fd09b55b-1638-4167-b0fe-83a5c38bb622",
   "metadata": {
    "id": "fd09b55b-1638-4167-b0fe-83a5c38bb622"
   },
   "source": [
    "## Preprocessing the Dataset\n",
    "\n",
    "```\n",
    "INPUT                                        LABEL\n",
    "------------------------------------------------------------------------------\n",
    "what's the deal with airplane pea    --->    hat's the deal with airplane pean \n",
    "hat's the deal with airplane pean    --->    at's the deal with airplane peanu\n",
    "at's the deal with airplane peanu    --->    t's the deal with airplane peanut\n",
    "t's the deal with airplane peanut    --->    's the deal with airplane peanuts\n",
    "```"
   ]
  },
  {
   "cell_type": "code",
   "execution_count": 15,
   "id": "54300c45-bb59-4095-9ab7-d5aaac9c6080",
   "metadata": {},
   "outputs": [],
   "source": [
    "token_params = TokenParams(\n",
    "    distinct_chars=distinct_chars, \n",
    "    seq_length = 100\n",
    ")"
   ]
  },
  {
   "cell_type": "code",
   "execution_count": 16,
   "id": "85035b82-7a12-49ed-b433-1e24d8970afb",
   "metadata": {
    "id": "85035b82-7a12-49ed-b433-1e24d8970afb"
   },
   "outputs": [],
   "source": [
    "def encode(text: str) -> List :\n",
    "    return tokenizer.texts_to_sequences([text])[0]\n",
    "\n",
    "encoded_text = encode(text)"
   ]
  },
  {
   "cell_type": "code",
   "execution_count": 17,
   "id": "49f9ab57-018a-4d90-8999-49e1c2e1b878",
   "metadata": {
    "colab": {
     "base_uri": "https://localhost:8080/"
    },
    "id": "49f9ab57-018a-4d90-8999-49e1c2e1b878",
    "outputId": "f9afd5d5-c17c-4dc1-c60d-af9d890a58d0"
   },
   "outputs": [
    {
     "name": "stdout",
     "output_type": "stream",
     "text": [
      "[16, 2, 3, 6, 16, 2, 20, 1, 3, 14, 22, 14, 23, 1, 18, 5, 8, 8, 13, 23, 1, 4, 5, 22, 2, 1, 5, 1, 10, 19, 7, 8, 16, 14, 1, 8, 32, 8, 3, 31, 1, 8, 3, 31, 1, 8, 3, 31, 1, 13, 3, 15, 24, 6, 2, 1, 3, 26, 2, 8, 7, 8, 16, 1, 15, 26, 1, 13, 3, 15, 6, 1, 10, 9, 3, 15, 12, 18, 2, 6, 14, 11, 11, 4, 5, 6, 4, 5, 25, 15, 12, 12, 20, 1, 6, 2, 5, 12, 12, 13, 29, 11, 11, 16, 2, 3, 6, 16, 2, 20, 1, 8, 3, 23, 1, 8, 3, 4, 1, 6, 2, 5, 12, 12, 13, 14, 1, 7, 24, 17, 1, 28, 15, 10, 4, 1, 10, 5, 13, 7, 8, 16, 1, 4, 9, 7, 10, 1, 4, 3, 1, 13, 3, 15, 1, 25, 2, 21, 5, 15, 10, 2, 1, 7, 1, 12, 7, 22, 2, 1, 4, 3, 1, 9, 2, 5, 6, 1, 17, 13, 10, 2, 12, 27, 1, 4, 5, 12, 22, 14, 1, 13, 2, 10, 23, 1, 6, 2, 5, 12, 12, 13, 31, 11, 11, 4, 5, 6, 4, 5, 25, 15, 12, 12, 20, 1, 5, 12, 6, 7, 16, 9, 4, 23, 1, 5, 12, 6, 7, 16, 9, 4, 14, 11, 11, 16, 2, 3, 6, 16, 2, 20, 1, 19, 9, 5, 4, 1, 5, 6, 2, 1, 5, 12, 12, 1, 10, 19, 2, 5, 4, 7, 8, 24, 1, 27, 3, 6, 29, 11, 11, 4, 5, 6, 4, 5, 25, 15, 12, 12, 20, 1, 7, 4, 24, 10, 1, 9, 3, 4, 1, 7, 8, 1, 4, 9, 7, 10, 1, 15, 8, 7, 27, 3, 6, 17, 14, 11, 11, 16, 2, 3, 6, 16, 2, 20, 1, 9, 3, 4, 29, 1, 19, 9, 5, 4, 1, 7, 10, 1, 4, 9, 7, 10, 29, 11, 11, 4, 5, 6, 4, 25, 15, 12, 12, 20, 1, 19, 9, 5, 4, 1, 7, 10, 1, 19, 9, 5, 4, 29, 11, 11, 16, 2, 3, 6, 16, 2, 20, 1, 4, 9, 7, 10, 1, 15, 8, 7, 27, 3, 6, 17, 23, 1, 19, 9, 5, 4, 24, 10, 1, 7, 4, 1, 17, 5, 18, 2, 1, 27, 6, 3, 17, 29, 11, 11, 4, 5, 6, 4, 25, 15, 12, 12, 20, 1, 7, 1, 18, 3, 8, 24, 4, 1, 22, 8, 3, 19, 23, 1, 21, 3, 4, 4, 3, 8, 29, 11, 11, 16, 2, 3, 6, 16, 2, 20, 1, 8, 3, 14, 1, 4, 9, 7, 10, 1, 7, 10, 1, 8, 3, 4, 1, 21, 3, 4, 4, 3, 8, 14, 1, 9, 2, 6, 2, 23, 1, 12, 2, 17, 17, 2, 1, 10, 2, 2, 14, 1, 19, 7, 12, 12, 1, 13, 3, 15, 1, 10, 4, 3, 26, 1, 7, 4, 29, 1, 3, 9, 14, 1, 3, 27, 1, 21, 3, 15, 6, 10, 2, 14, 1, 26, 3, 12, 13, 2, 10, 4, 2, 6, 31, 11, 11, 4, 5, 6, 4, 5, 25, 15, 12, 12, 20, 1, 10, 3, 29, 11, 11, 16, 2, 3, 6, 16, 2, 20, 1, 7, 1, 21, 5, 8, 24, 4, 1, 25, 2, 12, 7, 2, 30, 2, 1, 13, 3, 15, 24, 6, 2, 1, 8, 3, 4, 1, 26, 12, 5, 13, 7, 8, 16, 1, 7, 8, 1, 21, 3, 4, 4, 3, 8, 14, 11, 11, 4, 5, 6, 4, 5, 25, 15, 12, 12, 20, 1, 19, 2, 12, 12, 23, 1, 4, 9, 7, 10, 1, 7, 10, 1, 19, 9, 5, 4, 1, 4, 9, 2, 13, 1, 16, 7, 30, 2, 1, 15, 10, 14, 11, 11, 16, 2, 3, 6, 16, 2, 20, 1, 13, 3, 15, 1, 22, 8, 3, 19, 1, 4, 9, 2, 13, 1, 15, 10, 2, 18, 1, 4, 3, 1, 17, 5, 22, 2, 1, 12, 2, 7, 10, 15, 6, 2, 1, 10, 15, 7, 4, 10, 1, 3, 15, 4, 1, 3, 27, 1, 4, 9, 7, 10, 1, 27, 5, 25, 6, 7, 21, 29, 11, 11, 4, 5, 6, 4, 5, 25, 15, 12, 12, 20, 1, 13, 3, 15, 1, 6, 2, 5, 12, 12, 13, 1, 4, 9, 7, 8, 22, 1, 21, 3, 4]\n"
     ]
    }
   ],
   "source": [
    "# Take a look at the first 250 characters in tokens\n",
    "sample_encoded_text = encoded_text[:750]\n",
    "print(sample_encoded_text)"
   ]
  },
  {
   "cell_type": "code",
   "execution_count": 18,
   "id": "84088ba4-1637-4f99-bf76-070da39ccbd2",
   "metadata": {
    "id": "84088ba4-1637-4f99-bf76-070da39ccbd2"
   },
   "outputs": [],
   "source": [
    "# when char_level = True, sequences_to_texts puts spaces between characters during decoding\n",
    "def decode(\n",
    "    tokenizer: tf.keras.preprocessing.text.Tokenizer, \n",
    "    tokenized_text: List\n",
    ") -> str:\n",
    "    return ''.join([\n",
    "        tokenizer.sequences_to_texts([[token]])[0] \n",
    "        for token \n",
    "        in tokenized_text\n",
    "    ])"
   ]
  },
  {
   "cell_type": "code",
   "execution_count": 19,
   "id": "4352e27b-5bdf-4a4f-8cd8-9de02877218d",
   "metadata": {
    "colab": {
     "base_uri": "https://localhost:8080/"
    },
    "id": "4352e27b-5bdf-4a4f-8cd8-9de02877218d",
    "outputId": "c82138f1-a6bf-49c3-ccc1-3434cc0d7efd"
   },
   "outputs": [
    {
     "name": "stdout",
     "output_type": "stream",
     "text": [
      "george: o.k., danny, take a swing. n-no! no! no! you're opening up your shoulder.\n",
      "\n",
      "tartabull: really?\n",
      "\n",
      "george: no, not really. i'm just saying this to you because i like to hear myself talk. yes, really!\n",
      "\n",
      "tartabull: alright, alright.\n",
      "\n",
      "george: what are all sweatin' for?\n",
      "\n",
      "tartabull: it's hot in this uniform.\n",
      "\n",
      "george: hot? what is this?\n",
      "\n",
      "tartbull: what is what?\n",
      "\n",
      "george: this uniform, what's it made from?\n",
      "\n",
      "tartbull: i don't know, cotton?\n",
      "\n",
      "george: no. this is not cotton. here, lemme see. will you stop it? oh. of course. polyester!\n",
      "\n",
      "tartabull: so?\n",
      "\n",
      "george: i can't believe you're not playing in cotton.\n",
      "\n",
      "tartabull: well, this is what they give us.\n",
      "\n",
      "george: you know they used to make leisure suits out of this fabric?\n",
      "\n",
      "tartabull: you really think cot\n"
     ]
    }
   ],
   "source": [
    "sample_decoded_text = decode(tokenizer, sample_encoded_text)\n",
    "print(sample_decoded_text)"
   ]
  },
  {
   "cell_type": "code",
   "execution_count": 20,
   "id": "dd5e0b9f-208d-4f8d-a9a5-58efc508fe25",
   "metadata": {
    "id": "dd5e0b9f-208d-4f8d-a9a5-58efc508fe25"
   },
   "outputs": [
    {
     "name": "stdout",
     "output_type": "stream",
     "text": [
      "CPU times: user 16.7 s, sys: 638 ms, total: 17.4 s\n",
      "Wall time: 17.4 s\n"
     ]
    }
   ],
   "source": [
    "%%time\n",
    "\n",
    "seq_length = token_params.seq_length\n",
    "xs = []\n",
    "ys = []\n",
    "for i in range(0, total_chars):\n",
    "    xs.append(\n",
    "        pad_sequences(\n",
    "            [encoded_text[i:seq_length + i]], \n",
    "            maxlen=seq_length, \n",
    "            padding=\"pre\"\n",
    "        )[0]\n",
    "    )\n",
    "    ys.append(\n",
    "        pad_sequences(\n",
    "            [encoded_text[1 + i:seq_length + 1 + i]], \n",
    "            maxlen=seq_length, \n",
    "            padding=\"pre\"\n",
    "        )[0]\n",
    "    )\n",
    "    \n",
    "xs = np.array(xs)\n",
    "ys = np.array(ys)"
   ]
  },
  {
   "cell_type": "code",
   "execution_count": 22,
   "id": "9581500f-0f36-47db-ab9e-6ff9c816073b",
   "metadata": {
    "colab": {
     "base_uri": "https://localhost:8080/"
    },
    "id": "9581500f-0f36-47db-ab9e-6ff9c816073b",
    "outputId": "075bdca8-94a0-4403-8577-ccb411b0d198"
   },
   "outputs": [
    {
     "name": "stdout",
     "output_type": "stream",
     "text": [
      "xs[0]: [16  2  3  6 16  2 20  1  3 14 22 14 23  1 18  5  8  8 13 23  1  4  5 22\n",
      "  2  1  5  1 10 19  7  8 16 14  1  8 32  8  3 31  1  8  3 31  1  8  3 31\n",
      "  1 13  3 15 24  6  2  1  3 26  2  8  7  8 16  1 15 26  1 13  3 15  6  1\n",
      " 10  9  3 15 12 18  2  6 14 11 11  4  5  6  4  5 25 15 12 12 20  1  6  2\n",
      "  5 12 12 13]\n",
      "decoded xs[0]: george: o.k., danny, take a swing. n-no! no! no! you're opening up your shoulder.\n",
      "\n",
      "tartabull: really\n",
      "\n",
      "ys[0]: [ 2  3  6 16  2 20  1  3 14 22 14 23  1 18  5  8  8 13 23  1  4  5 22  2\n",
      "  1  5  1 10 19  7  8 16 14  1  8 32  8  3 31  1  8  3 31  1  8  3 31  1\n",
      " 13  3 15 24  6  2  1  3 26  2  8  7  8 16  1 15 26  1 13  3 15  6  1 10\n",
      "  9  3 15 12 18  2  6 14 11 11  4  5  6  4  5 25 15 12 12 20  1  6  2  5\n",
      " 12 12 13 29]\n",
      "decoded ys[0]: eorge: o.k., danny, take a swing. n-no! no! no! you're opening up your shoulder.\n",
      "\n",
      "tartabull: really?\n",
      "\n",
      "================================================\n",
      "\n",
      "xs[1]: [ 2  3  6 16  2 20  1  3 14 22 14 23  1 18  5  8  8 13 23  1  4  5 22  2\n",
      "  1  5  1 10 19  7  8 16 14  1  8 32  8  3 31  1  8  3 31  1  8  3 31  1\n",
      " 13  3 15 24  6  2  1  3 26  2  8  7  8 16  1 15 26  1 13  3 15  6  1 10\n",
      "  9  3 15 12 18  2  6 14 11 11  4  5  6  4  5 25 15 12 12 20  1  6  2  5\n",
      " 12 12 13 29]\n",
      "decoded xs[1]: eorge: o.k., danny, take a swing. n-no! no! no! you're opening up your shoulder.\n",
      "\n",
      "tartabull: really?\n",
      "\n",
      "ys[1]: [ 3  6 16  2 20  1  3 14 22 14 23  1 18  5  8  8 13 23  1  4  5 22  2  1\n",
      "  5  1 10 19  7  8 16 14  1  8 32  8  3 31  1  8  3 31  1  8  3 31  1 13\n",
      "  3 15 24  6  2  1  3 26  2  8  7  8 16  1 15 26  1 13  3 15  6  1 10  9\n",
      "  3 15 12 18  2  6 14 11 11  4  5  6  4  5 25 15 12 12 20  1  6  2  5 12\n",
      " 12 13 29 11]\n",
      "decoded ys[1]: orge: o.k., danny, take a swing. n-no! no! no! you're opening up your shoulder.\n",
      "\n",
      "tartabull: really?\n",
      "\n",
      "\n",
      "================================================\n",
      "\n"
     ]
    }
   ],
   "source": [
    "for i in range(2):\n",
    "    print(f'xs[{i}]: {xs[i]}')\n",
    "    print(f'decoded xs[{i}]: {decode(tokenizer, xs[i])}')\n",
    "    print()\n",
    "    print(f'ys[{i}]: {ys[i]}')\n",
    "    print(f'decoded ys[{i}]: {decode(tokenizer, ys[i])}')\n",
    "    print('\\n================================================\\n')"
   ]
  },
  {
   "cell_type": "markdown",
   "id": "51e630df-8d6d-4fe1-a079-bbdd039a59ab",
   "metadata": {
    "id": "51e630df-8d6d-4fe1-a079-bbdd039a59ab"
   },
   "source": [
    "## Building the model"
   ]
  },
  {
   "cell_type": "code",
   "execution_count": 23,
   "id": "03862ead-bbca-42e8-bb2b-503c50ee4105",
   "metadata": {},
   "outputs": [],
   "source": [
    "def build_and_compile_model(model_configs: ModelConfigs, \n",
    "                            token_params: TokenParams\n",
    "                           ) -> tf.keras.Model: \n",
    "\n",
    "    model = Sequential(\n",
    "        [\n",
    "            Embedding(\n",
    "                input_dim=token_params.distinct_chars, \n",
    "                output_dim=model_configs.embedding_dim, \n",
    "                input_length=token_params.seq_length\n",
    "            ),\n",
    "            Bidirectional(\n",
    "                LSTM(model_configs.lstm_units, return_sequences=True)\n",
    "            ),\n",
    "            Dense(model_configs.dense_dim),\n",
    "            Dropout(model_configs.dropout_prob),\n",
    "            Dense(\n",
    "                token_params.distinct_chars, \n",
    "            ),  # not using softmax activation here, using the logits instead\n",
    "        ]\n",
    "    )\n",
    "\n",
    "    # Use categorical crossentropy because this is a multi-class problem\n",
    "    model.compile(\n",
    "        loss=tf.losses.SparseCategoricalCrossentropy(from_logits=True),\n",
    "        optimizer=tf.keras.optimizers.Adam(\n",
    "            learning_rate=model_configs.learning_rate\n",
    "        ), \n",
    "    )\n",
    "    \n",
    "    return model"
   ]
  },
  {
   "cell_type": "code",
   "execution_count": 34,
   "id": "150d1655-5f53-4121-b28a-49de58e1667d",
   "metadata": {
    "colab": {
     "base_uri": "https://localhost:8080/"
    },
    "id": "150d1655-5f53-4121-b28a-49de58e1667d",
    "outputId": "6471e9f7-0911-4020-99aa-81e0e8e4f9e7"
   },
   "outputs": [
    {
     "name": "stdout",
     "output_type": "stream",
     "text": [
      "Model: \"sequential_1\"\n",
      "_________________________________________________________________\n",
      " Layer (type)                Output Shape              Param #   \n",
      "=================================================================\n",
      " embedding_1 (Embedding)     (None, 100, 100)          6100      \n",
      "                                                                 \n",
      " bidirectional_1 (Bidirectio  (None, 100, 64)          34048     \n",
      " nal)                                                            \n",
      "                                                                 \n",
      " dense_2 (Dense)             (None, 100, 64)           4160      \n",
      "                                                                 \n",
      " dropout_1 (Dropout)         (None, 100, 64)           0         \n",
      "                                                                 \n",
      " dense_3 (Dense)             (None, 100, 61)           3965      \n",
      "                                                                 \n",
      "=================================================================\n",
      "Total params: 48,273\n",
      "Trainable params: 48,273\n",
      "Non-trainable params: 0\n",
      "_________________________________________________________________\n"
     ]
    }
   ],
   "source": [
    "# Print the model summary\n",
    "model_tune_configs = ModelConfigs(\n",
    "    embedding_dim=100,\n",
    "    lstm_units=32,\n",
    "    dense_dim=64,\n",
    "    dropout_prob=0.8,\n",
    "    learning_rate=0.01,\n",
    ")\n",
    "model_tune = build_and_compile_model(model_tune_configs, token_params)\n",
    "model_tune.summary()"
   ]
  },
  {
   "cell_type": "code",
   "execution_count": 99,
   "id": "069af235-a1bd-4fe9-aee7-85fe88ad8930",
   "metadata": {},
   "outputs": [
    {
     "data": {
      "image/png": "[encoded data removed]",
      "text/plain": [
       "<IPython.core.display.Image object>"
      ]
     },
     "execution_count": 99,
     "metadata": {},
     "output_type": "execute_result"
    }
   ],
   "source": [
    "tf.keras.utils.plot_model(\n",
    "    model_tune, \n",
    "    show_shapes=True, \n",
    "    show_layer_names=False\n",
    ") "
   ]
  },
  {
   "cell_type": "markdown",
   "id": "0d97bb52-0863-4cfe-9f30-01ba439a7ed7",
   "metadata": {
    "id": "0d97bb52-0863-4cfe-9f30-01ba439a7ed7"
   },
   "source": [
    "## Training the model"
   ]
  },
  {
   "cell_type": "markdown",
   "id": "53177065-82a4-434d-a561-8dee06e0eef2",
   "metadata": {},
   "source": [
    "### Learning rate tuning"
   ]
  },
  {
   "cell_type": "code",
   "execution_count": 100,
   "id": "29632e19-c85b-49b2-9c2b-846d56d3047b",
   "metadata": {},
   "outputs": [],
   "source": [
    "fit_tune_configs = FitConfigs(epochs=50, batch_size=512, verbose=1)"
   ]
  },
  {
   "cell_type": "code",
   "execution_count": null,
   "id": "8c0af2a7-6971-48c2-a965-59b11216f060",
   "metadata": {},
   "outputs": [],
   "source": [
    "# Reset states generated by Keras\n",
    "tf.keras.backend.clear_session()\n",
    "\n",
    "lr_schedule = tf.keras.callbacks.LearningRateScheduler(\n",
    "    lambda epoch: 1e-4 * 10 ** (epoch / 20)\n",
    ")\n",
    "\n",
    "history = model_tune.fit(  # Train the model\n",
    "    xs, \n",
    "    ys, \n",
    "    epochs=fit_tune_configs.epochs, \n",
    "    batch_size=fit_tune_configs.batch_size, \n",
    "    callbacks=[lr_schedule],\n",
    "    verbose=fit_tune_configs.verbose\n",
    ")"
   ]
  },
  {
   "cell_type": "code",
   "execution_count": 97,
   "id": "b8c0e842-daa4-4070-976e-3931e1b9ef8d",
   "metadata": {},
   "outputs": [
    {
     "data": {
      "image/png": "[encoded data removed]",
      "text/plain": [
       "<Figure size 1000x600 with 1 Axes>"
      ]
     },
     "metadata": {},
     "output_type": "display_data"
    }
   ],
   "source": [
    "# Set the figure size\n",
    "plt.figure(figsize=(10, 6))\n",
    "\n",
    "# Set the grid\n",
    "plt.grid(True)\n",
    "\n",
    "# Plot the loss in log scale\n",
    "plt.semilogx(history.history['lr'], history.history[\"loss\"])\n",
    "\n",
    "# Increase the tickmarks size\n",
    "plt.tick_params(\"both\", length=10, width=1, which=\"both\")"
   ]
  },
  {
   "cell_type": "markdown",
   "id": "cd4c3688-c38d-43f1-aba2-b8d9b6d11017",
   "metadata": {},
   "source": [
    "### Full training"
   ]
  },
  {
   "cell_type": "code",
   "execution_count": 25,
   "id": "a260e306-be47-48ec-a258-87bba9857fc4",
   "metadata": {},
   "outputs": [
    {
     "name": "stdout",
     "output_type": "stream",
     "text": [
      "Metal device set to: Apple M1\n"
     ]
    },
    {
     "name": "stderr",
     "output_type": "stream",
     "text": [
      "2022-11-24 22:59:05.205044: I tensorflow/core/common_runtime/pluggable_device/pluggable_device_factory.cc:306] Could not identify NUMA node of platform GPU ID 0, defaulting to 0. Your kernel may not have been built with NUMA support.\n",
      "2022-11-24 22:59:05.205186: I tensorflow/core/common_runtime/pluggable_device/pluggable_device_factory.cc:272] Created TensorFlow device (/job:localhost/replica:0/task:0/device:GPU:0 with 0 MB memory) -> physical PluggableDevice (device: 0, name: METAL, pci bus id: <undefined>)\n"
     ]
    },
    {
     "name": "stdout",
     "output_type": "stream",
     "text": [
      "Model: \"sequential\"\n",
      "_________________________________________________________________\n",
      " Layer (type)                Output Shape              Param #   \n",
      "=================================================================\n",
      " embedding (Embedding)       (None, 100, 150)          9150      \n",
      "                                                                 \n",
      " bidirectional (Bidirectiona  (None, 100, 256)         285696    \n",
      " l)                                                              \n",
      "                                                                 \n",
      " dense (Dense)               (None, 100, 64)           16448     \n",
      "                                                                 \n",
      " dropout (Dropout)           (None, 100, 64)           0         \n",
      "                                                                 \n",
      " dense_1 (Dense)             (None, 100, 61)           3965      \n",
      "                                                                 \n",
      "=================================================================\n",
      "Total params: 315,259\n",
      "Trainable params: 315,259\n",
      "Non-trainable params: 0\n",
      "_________________________________________________________________\n"
     ]
    },
    {
     "data": {
      "image/png": "[encoded data removed]",
      "text/plain": [
       "<IPython.core.display.Image object>"
      ]
     },
     "execution_count": 25,
     "metadata": {},
     "output_type": "execute_result"
    }
   ],
   "source": [
    "# Reset states generated by Keras\n",
    "tf.keras.backend.clear_session()\n",
    "\n",
    "model_configs = ModelConfigs(\n",
    "    embedding_dim=150,\n",
    "    lstm_units=128,\n",
    "    dense_dim=64,\n",
    "    dropout_prob=0.8,\n",
    "    learning_rate=1e-3,\n",
    ")\n",
    "\n",
    "model = build_and_compile_model(model_configs, token_params)\n",
    "model.summary()\n",
    "\n",
    "tf.keras.utils.plot_model(\n",
    "    model, \n",
    "    show_shapes=True, \n",
    "    show_layer_names=False\n",
    ") "
   ]
  },
  {
   "cell_type": "code",
   "execution_count": 28,
   "id": "0c2b0b1f-4a30-4bea-9bb1-81ce8193646b",
   "metadata": {},
   "outputs": [
    {
     "name": "stdout",
     "output_type": "stream",
     "text": [
      "Epoch 1/50\n"
     ]
    },
    {
     "name": "stderr",
     "output_type": "stream",
     "text": [
      "2022-11-24 23:01:42.180508: W tensorflow/core/platform/profile_utils/cpu_utils.cc:128] Failed to get CPU frequency: 0 Hz\n",
      "2022-11-24 23:01:42.968957: I tensorflow/core/grappler/optimizers/custom_graph_optimizer_registry.cc:114] Plugin optimizer for device_type GPU is enabled.\n",
      "2022-11-24 23:01:43.416811: I tensorflow/core/grappler/optimizers/custom_graph_optimizer_registry.cc:114] Plugin optimizer for device_type GPU is enabled.\n",
      "2022-11-24 23:01:43.444681: I tensorflow/core/grappler/optimizers/custom_graph_optimizer_registry.cc:114] Plugin optimizer for device_type GPU is enabled.\n",
      "2022-11-24 23:01:46.754619: I tensorflow/core/grappler/optimizers/custom_graph_optimizer_registry.cc:114] Plugin optimizer for device_type GPU is enabled.\n",
      "2022-11-24 23:01:46.807470: I tensorflow/core/grappler/optimizers/custom_graph_optimizer_registry.cc:114] Plugin optimizer for device_type GPU is enabled.\n"
     ]
    },
    {
     "name": "stdout",
     "output_type": "stream",
     "text": [
      "  71/1618 [>.............................] - ETA: 8:13 - loss: 3.2723"
     ]
    },
    {
     "ename": "KeyboardInterrupt",
     "evalue": "",
     "output_type": "error",
     "traceback": [
      "\u001b[0;31m---------------------------------------------------------------------------\u001b[0m",
      "\u001b[0;31mKeyboardInterrupt\u001b[0m                         Traceback (most recent call last)",
      "File \u001b[0;32m<timed exec>:6\u001b[0m\n",
      "File \u001b[0;32m~/miniforge3/envs/tf_py38/lib/python3.8/site-packages/keras/utils/traceback_utils.py:65\u001b[0m, in \u001b[0;36mfilter_traceback.<locals>.error_handler\u001b[0;34m(*args, **kwargs)\u001b[0m\n\u001b[1;32m     63\u001b[0m filtered_tb \u001b[38;5;241m=\u001b[39m \u001b[38;5;28;01mNone\u001b[39;00m\n\u001b[1;32m     64\u001b[0m \u001b[38;5;28;01mtry\u001b[39;00m:\n\u001b[0;32m---> 65\u001b[0m     \u001b[38;5;28;01mreturn\u001b[39;00m \u001b[43mfn\u001b[49m\u001b[43m(\u001b[49m\u001b[38;5;241;43m*\u001b[39;49m\u001b[43margs\u001b[49m\u001b[43m,\u001b[49m\u001b[43m \u001b[49m\u001b[38;5;241;43m*\u001b[39;49m\u001b[38;5;241;43m*\u001b[39;49m\u001b[43mkwargs\u001b[49m\u001b[43m)\u001b[49m\n\u001b[1;32m     66\u001b[0m \u001b[38;5;28;01mexcept\u001b[39;00m \u001b[38;5;167;01mException\u001b[39;00m \u001b[38;5;28;01mas\u001b[39;00m e:\n\u001b[1;32m     67\u001b[0m     filtered_tb \u001b[38;5;241m=\u001b[39m _process_traceback_frames(e\u001b[38;5;241m.\u001b[39m__traceback__)\n",
      "File \u001b[0;32m~/miniforge3/envs/tf_py38/lib/python3.8/site-packages/keras/engine/training.py:1564\u001b[0m, in \u001b[0;36mModel.fit\u001b[0;34m(self, x, y, batch_size, epochs, verbose, callbacks, validation_split, validation_data, shuffle, class_weight, sample_weight, initial_epoch, steps_per_epoch, validation_steps, validation_batch_size, validation_freq, max_queue_size, workers, use_multiprocessing)\u001b[0m\n\u001b[1;32m   1556\u001b[0m \u001b[38;5;28;01mwith\u001b[39;00m tf\u001b[38;5;241m.\u001b[39mprofiler\u001b[38;5;241m.\u001b[39mexperimental\u001b[38;5;241m.\u001b[39mTrace(\n\u001b[1;32m   1557\u001b[0m     \u001b[38;5;124m\"\u001b[39m\u001b[38;5;124mtrain\u001b[39m\u001b[38;5;124m\"\u001b[39m,\n\u001b[1;32m   1558\u001b[0m     epoch_num\u001b[38;5;241m=\u001b[39mepoch,\n\u001b[0;32m   (...)\u001b[0m\n\u001b[1;32m   1561\u001b[0m     _r\u001b[38;5;241m=\u001b[39m\u001b[38;5;241m1\u001b[39m,\n\u001b[1;32m   1562\u001b[0m ):\n\u001b[1;32m   1563\u001b[0m     callbacks\u001b[38;5;241m.\u001b[39mon_train_batch_begin(step)\n\u001b[0;32m-> 1564\u001b[0m     tmp_logs \u001b[38;5;241m=\u001b[39m \u001b[38;5;28;43mself\u001b[39;49m\u001b[38;5;241;43m.\u001b[39;49m\u001b[43mtrain_function\u001b[49m\u001b[43m(\u001b[49m\u001b[43miterator\u001b[49m\u001b[43m)\u001b[49m\n\u001b[1;32m   1565\u001b[0m     \u001b[38;5;28;01mif\u001b[39;00m data_handler\u001b[38;5;241m.\u001b[39mshould_sync:\n\u001b[1;32m   1566\u001b[0m         context\u001b[38;5;241m.\u001b[39masync_wait()\n",
      "File \u001b[0;32m~/miniforge3/envs/tf_py38/lib/python3.8/site-packages/tensorflow/python/util/traceback_utils.py:150\u001b[0m, in \u001b[0;36mfilter_traceback.<locals>.error_handler\u001b[0;34m(*args, **kwargs)\u001b[0m\n\u001b[1;32m    148\u001b[0m filtered_tb \u001b[38;5;241m=\u001b[39m \u001b[38;5;28;01mNone\u001b[39;00m\n\u001b[1;32m    149\u001b[0m \u001b[38;5;28;01mtry\u001b[39;00m:\n\u001b[0;32m--> 150\u001b[0m   \u001b[38;5;28;01mreturn\u001b[39;00m \u001b[43mfn\u001b[49m\u001b[43m(\u001b[49m\u001b[38;5;241;43m*\u001b[39;49m\u001b[43margs\u001b[49m\u001b[43m,\u001b[49m\u001b[43m \u001b[49m\u001b[38;5;241;43m*\u001b[39;49m\u001b[38;5;241;43m*\u001b[39;49m\u001b[43mkwargs\u001b[49m\u001b[43m)\u001b[49m\n\u001b[1;32m    151\u001b[0m \u001b[38;5;28;01mexcept\u001b[39;00m \u001b[38;5;167;01mException\u001b[39;00m \u001b[38;5;28;01mas\u001b[39;00m e:\n\u001b[1;32m    152\u001b[0m   filtered_tb \u001b[38;5;241m=\u001b[39m _process_traceback_frames(e\u001b[38;5;241m.\u001b[39m__traceback__)\n",
      "File \u001b[0;32m~/miniforge3/envs/tf_py38/lib/python3.8/site-packages/tensorflow/python/eager/def_function.py:915\u001b[0m, in \u001b[0;36mFunction.__call__\u001b[0;34m(self, *args, **kwds)\u001b[0m\n\u001b[1;32m    912\u001b[0m compiler \u001b[38;5;241m=\u001b[39m \u001b[38;5;124m\"\u001b[39m\u001b[38;5;124mxla\u001b[39m\u001b[38;5;124m\"\u001b[39m \u001b[38;5;28;01mif\u001b[39;00m \u001b[38;5;28mself\u001b[39m\u001b[38;5;241m.\u001b[39m_jit_compile \u001b[38;5;28;01melse\u001b[39;00m \u001b[38;5;124m\"\u001b[39m\u001b[38;5;124mnonXla\u001b[39m\u001b[38;5;124m\"\u001b[39m\n\u001b[1;32m    914\u001b[0m \u001b[38;5;28;01mwith\u001b[39;00m OptionalXlaContext(\u001b[38;5;28mself\u001b[39m\u001b[38;5;241m.\u001b[39m_jit_compile):\n\u001b[0;32m--> 915\u001b[0m   result \u001b[38;5;241m=\u001b[39m \u001b[38;5;28;43mself\u001b[39;49m\u001b[38;5;241;43m.\u001b[39;49m\u001b[43m_call\u001b[49m\u001b[43m(\u001b[49m\u001b[38;5;241;43m*\u001b[39;49m\u001b[43margs\u001b[49m\u001b[43m,\u001b[49m\u001b[43m \u001b[49m\u001b[38;5;241;43m*\u001b[39;49m\u001b[38;5;241;43m*\u001b[39;49m\u001b[43mkwds\u001b[49m\u001b[43m)\u001b[49m\n\u001b[1;32m    917\u001b[0m new_tracing_count \u001b[38;5;241m=\u001b[39m \u001b[38;5;28mself\u001b[39m\u001b[38;5;241m.\u001b[39mexperimental_get_tracing_count()\n\u001b[1;32m    918\u001b[0m without_tracing \u001b[38;5;241m=\u001b[39m (tracing_count \u001b[38;5;241m==\u001b[39m new_tracing_count)\n",
      "File \u001b[0;32m~/miniforge3/envs/tf_py38/lib/python3.8/site-packages/tensorflow/python/eager/def_function.py:947\u001b[0m, in \u001b[0;36mFunction._call\u001b[0;34m(self, *args, **kwds)\u001b[0m\n\u001b[1;32m    944\u001b[0m   \u001b[38;5;28mself\u001b[39m\u001b[38;5;241m.\u001b[39m_lock\u001b[38;5;241m.\u001b[39mrelease()\n\u001b[1;32m    945\u001b[0m   \u001b[38;5;66;03m# In this case we have created variables on the first call, so we run the\u001b[39;00m\n\u001b[1;32m    946\u001b[0m   \u001b[38;5;66;03m# defunned version which is guaranteed to never create variables.\u001b[39;00m\n\u001b[0;32m--> 947\u001b[0m   \u001b[38;5;28;01mreturn\u001b[39;00m \u001b[38;5;28;43mself\u001b[39;49m\u001b[38;5;241;43m.\u001b[39;49m\u001b[43m_stateless_fn\u001b[49m\u001b[43m(\u001b[49m\u001b[38;5;241;43m*\u001b[39;49m\u001b[43margs\u001b[49m\u001b[43m,\u001b[49m\u001b[43m \u001b[49m\u001b[38;5;241;43m*\u001b[39;49m\u001b[38;5;241;43m*\u001b[39;49m\u001b[43mkwds\u001b[49m\u001b[43m)\u001b[49m  \u001b[38;5;66;03m# pylint: disable=not-callable\u001b[39;00m\n\u001b[1;32m    948\u001b[0m \u001b[38;5;28;01melif\u001b[39;00m \u001b[38;5;28mself\u001b[39m\u001b[38;5;241m.\u001b[39m_stateful_fn \u001b[38;5;129;01mis\u001b[39;00m \u001b[38;5;129;01mnot\u001b[39;00m \u001b[38;5;28;01mNone\u001b[39;00m:\n\u001b[1;32m    949\u001b[0m   \u001b[38;5;66;03m# Release the lock early so that multiple threads can perform the call\u001b[39;00m\n\u001b[1;32m    950\u001b[0m   \u001b[38;5;66;03m# in parallel.\u001b[39;00m\n\u001b[1;32m    951\u001b[0m   \u001b[38;5;28mself\u001b[39m\u001b[38;5;241m.\u001b[39m_lock\u001b[38;5;241m.\u001b[39mrelease()\n",
      "File \u001b[0;32m~/miniforge3/envs/tf_py38/lib/python3.8/site-packages/tensorflow/python/eager/function.py:2496\u001b[0m, in \u001b[0;36mFunction.__call__\u001b[0;34m(self, *args, **kwargs)\u001b[0m\n\u001b[1;32m   2493\u001b[0m \u001b[38;5;28;01mwith\u001b[39;00m \u001b[38;5;28mself\u001b[39m\u001b[38;5;241m.\u001b[39m_lock:\n\u001b[1;32m   2494\u001b[0m   (graph_function,\n\u001b[1;32m   2495\u001b[0m    filtered_flat_args) \u001b[38;5;241m=\u001b[39m \u001b[38;5;28mself\u001b[39m\u001b[38;5;241m.\u001b[39m_maybe_define_function(args, kwargs)\n\u001b[0;32m-> 2496\u001b[0m \u001b[38;5;28;01mreturn\u001b[39;00m \u001b[43mgraph_function\u001b[49m\u001b[38;5;241;43m.\u001b[39;49m\u001b[43m_call_flat\u001b[49m\u001b[43m(\u001b[49m\n\u001b[1;32m   2497\u001b[0m \u001b[43m    \u001b[49m\u001b[43mfiltered_flat_args\u001b[49m\u001b[43m,\u001b[49m\u001b[43m \u001b[49m\u001b[43mcaptured_inputs\u001b[49m\u001b[38;5;241;43m=\u001b[39;49m\u001b[43mgraph_function\u001b[49m\u001b[38;5;241;43m.\u001b[39;49m\u001b[43mcaptured_inputs\u001b[49m\u001b[43m)\u001b[49m\n",
      "File \u001b[0;32m~/miniforge3/envs/tf_py38/lib/python3.8/site-packages/tensorflow/python/eager/function.py:1862\u001b[0m, in \u001b[0;36mConcreteFunction._call_flat\u001b[0;34m(self, args, captured_inputs, cancellation_manager)\u001b[0m\n\u001b[1;32m   1858\u001b[0m possible_gradient_type \u001b[38;5;241m=\u001b[39m gradients_util\u001b[38;5;241m.\u001b[39mPossibleTapeGradientTypes(args)\n\u001b[1;32m   1859\u001b[0m \u001b[38;5;28;01mif\u001b[39;00m (possible_gradient_type \u001b[38;5;241m==\u001b[39m gradients_util\u001b[38;5;241m.\u001b[39mPOSSIBLE_GRADIENT_TYPES_NONE\n\u001b[1;32m   1860\u001b[0m     \u001b[38;5;129;01mand\u001b[39;00m executing_eagerly):\n\u001b[1;32m   1861\u001b[0m   \u001b[38;5;66;03m# No tape is watching; skip to running the function.\u001b[39;00m\n\u001b[0;32m-> 1862\u001b[0m   \u001b[38;5;28;01mreturn\u001b[39;00m \u001b[38;5;28mself\u001b[39m\u001b[38;5;241m.\u001b[39m_build_call_outputs(\u001b[38;5;28;43mself\u001b[39;49m\u001b[38;5;241;43m.\u001b[39;49m\u001b[43m_inference_function\u001b[49m\u001b[38;5;241;43m.\u001b[39;49m\u001b[43mcall\u001b[49m\u001b[43m(\u001b[49m\n\u001b[1;32m   1863\u001b[0m \u001b[43m      \u001b[49m\u001b[43mctx\u001b[49m\u001b[43m,\u001b[49m\u001b[43m \u001b[49m\u001b[43margs\u001b[49m\u001b[43m,\u001b[49m\u001b[43m \u001b[49m\u001b[43mcancellation_manager\u001b[49m\u001b[38;5;241;43m=\u001b[39;49m\u001b[43mcancellation_manager\u001b[49m\u001b[43m)\u001b[49m)\n\u001b[1;32m   1864\u001b[0m forward_backward \u001b[38;5;241m=\u001b[39m \u001b[38;5;28mself\u001b[39m\u001b[38;5;241m.\u001b[39m_select_forward_and_backward_functions(\n\u001b[1;32m   1865\u001b[0m     args,\n\u001b[1;32m   1866\u001b[0m     possible_gradient_type,\n\u001b[1;32m   1867\u001b[0m     executing_eagerly)\n\u001b[1;32m   1868\u001b[0m forward_function, args_with_tangents \u001b[38;5;241m=\u001b[39m forward_backward\u001b[38;5;241m.\u001b[39mforward()\n",
      "File \u001b[0;32m~/miniforge3/envs/tf_py38/lib/python3.8/site-packages/tensorflow/python/eager/function.py:499\u001b[0m, in \u001b[0;36m_EagerDefinedFunction.call\u001b[0;34m(self, ctx, args, cancellation_manager)\u001b[0m\n\u001b[1;32m    497\u001b[0m \u001b[38;5;28;01mwith\u001b[39;00m _InterpolateFunctionError(\u001b[38;5;28mself\u001b[39m):\n\u001b[1;32m    498\u001b[0m   \u001b[38;5;28;01mif\u001b[39;00m cancellation_manager \u001b[38;5;129;01mis\u001b[39;00m \u001b[38;5;28;01mNone\u001b[39;00m:\n\u001b[0;32m--> 499\u001b[0m     outputs \u001b[38;5;241m=\u001b[39m \u001b[43mexecute\u001b[49m\u001b[38;5;241;43m.\u001b[39;49m\u001b[43mexecute\u001b[49m\u001b[43m(\u001b[49m\n\u001b[1;32m    500\u001b[0m \u001b[43m        \u001b[49m\u001b[38;5;28;43mstr\u001b[39;49m\u001b[43m(\u001b[49m\u001b[38;5;28;43mself\u001b[39;49m\u001b[38;5;241;43m.\u001b[39;49m\u001b[43msignature\u001b[49m\u001b[38;5;241;43m.\u001b[39;49m\u001b[43mname\u001b[49m\u001b[43m)\u001b[49m\u001b[43m,\u001b[49m\n\u001b[1;32m    501\u001b[0m \u001b[43m        \u001b[49m\u001b[43mnum_outputs\u001b[49m\u001b[38;5;241;43m=\u001b[39;49m\u001b[38;5;28;43mself\u001b[39;49m\u001b[38;5;241;43m.\u001b[39;49m\u001b[43m_num_outputs\u001b[49m\u001b[43m,\u001b[49m\n\u001b[1;32m    502\u001b[0m \u001b[43m        \u001b[49m\u001b[43minputs\u001b[49m\u001b[38;5;241;43m=\u001b[39;49m\u001b[43margs\u001b[49m\u001b[43m,\u001b[49m\n\u001b[1;32m    503\u001b[0m \u001b[43m        \u001b[49m\u001b[43mattrs\u001b[49m\u001b[38;5;241;43m=\u001b[39;49m\u001b[43mattrs\u001b[49m\u001b[43m,\u001b[49m\n\u001b[1;32m    504\u001b[0m \u001b[43m        \u001b[49m\u001b[43mctx\u001b[49m\u001b[38;5;241;43m=\u001b[39;49m\u001b[43mctx\u001b[49m\u001b[43m)\u001b[49m\n\u001b[1;32m    505\u001b[0m   \u001b[38;5;28;01melse\u001b[39;00m:\n\u001b[1;32m    506\u001b[0m     outputs \u001b[38;5;241m=\u001b[39m execute\u001b[38;5;241m.\u001b[39mexecute_with_cancellation(\n\u001b[1;32m    507\u001b[0m         \u001b[38;5;28mstr\u001b[39m(\u001b[38;5;28mself\u001b[39m\u001b[38;5;241m.\u001b[39msignature\u001b[38;5;241m.\u001b[39mname),\n\u001b[1;32m    508\u001b[0m         num_outputs\u001b[38;5;241m=\u001b[39m\u001b[38;5;28mself\u001b[39m\u001b[38;5;241m.\u001b[39m_num_outputs,\n\u001b[0;32m   (...)\u001b[0m\n\u001b[1;32m    511\u001b[0m         ctx\u001b[38;5;241m=\u001b[39mctx,\n\u001b[1;32m    512\u001b[0m         cancellation_manager\u001b[38;5;241m=\u001b[39mcancellation_manager)\n",
      "File \u001b[0;32m~/miniforge3/envs/tf_py38/lib/python3.8/site-packages/tensorflow/python/eager/execute.py:54\u001b[0m, in \u001b[0;36mquick_execute\u001b[0;34m(op_name, num_outputs, inputs, attrs, ctx, name)\u001b[0m\n\u001b[1;32m     52\u001b[0m \u001b[38;5;28;01mtry\u001b[39;00m:\n\u001b[1;32m     53\u001b[0m   ctx\u001b[38;5;241m.\u001b[39mensure_initialized()\n\u001b[0;32m---> 54\u001b[0m   tensors \u001b[38;5;241m=\u001b[39m \u001b[43mpywrap_tfe\u001b[49m\u001b[38;5;241;43m.\u001b[39;49m\u001b[43mTFE_Py_Execute\u001b[49m\u001b[43m(\u001b[49m\u001b[43mctx\u001b[49m\u001b[38;5;241;43m.\u001b[39;49m\u001b[43m_handle\u001b[49m\u001b[43m,\u001b[49m\u001b[43m \u001b[49m\u001b[43mdevice_name\u001b[49m\u001b[43m,\u001b[49m\u001b[43m \u001b[49m\u001b[43mop_name\u001b[49m\u001b[43m,\u001b[49m\n\u001b[1;32m     55\u001b[0m \u001b[43m                                      \u001b[49m\u001b[43minputs\u001b[49m\u001b[43m,\u001b[49m\u001b[43m \u001b[49m\u001b[43mattrs\u001b[49m\u001b[43m,\u001b[49m\u001b[43m \u001b[49m\u001b[43mnum_outputs\u001b[49m\u001b[43m)\u001b[49m\n\u001b[1;32m     56\u001b[0m \u001b[38;5;28;01mexcept\u001b[39;00m core\u001b[38;5;241m.\u001b[39m_NotOkStatusException \u001b[38;5;28;01mas\u001b[39;00m e:\n\u001b[1;32m     57\u001b[0m   \u001b[38;5;28;01mif\u001b[39;00m name \u001b[38;5;129;01mis\u001b[39;00m \u001b[38;5;129;01mnot\u001b[39;00m \u001b[38;5;28;01mNone\u001b[39;00m:\n",
      "\u001b[0;31mKeyboardInterrupt\u001b[0m: "
     ]
    }
   ],
   "source": [
    "%%time\n",
    "\n",
    "fit_configs = FitConfigs(\n",
    "    epochs=50, \n",
    "    batch_size=512, \n",
    "    verbose=1\n",
    ")\n",
    "history = model.fit(  # Train the model\n",
    "    xs, \n",
    "    ys, \n",
    "    epochs=fit_configs.epochs, \n",
    "    batch_size=fit_configs.batch_size, \n",
    "    verbose=fit_configs.verbose\n",
    ")"
   ]
  },
  {
   "cell_type": "code",
   "execution_count": 121,
   "id": "5a2fef54-1e12-4fc2-ba99-db7ee3f444c9",
   "metadata": {
    "colab": {
     "base_uri": "https://localhost:8080/",
     "height": 279
    },
    "id": "5a2fef54-1e12-4fc2-ba99-db7ee3f444c9",
    "outputId": "253b00ef-094a-4295-e6d9-9108084de8fd"
   },
   "outputs": [
    {
     "data": {
      "image/png": "[encoded data removed]",
      "text/plain": [
       "<Figure size 1000x600 with 1 Axes>"
      ]
     },
     "metadata": {},
     "output_type": "display_data"
    }
   ],
   "source": [
    "def plot_graphs(history, metric):\n",
    "    plt.figure(figsize=(10, 6))\n",
    "    plt.plot(history.history[metric])\n",
    "    plt.xlabel(\"Epochs\")\n",
    "    plt.ylabel(metric)\n",
    "    plt.show()\n",
    "\n",
    "plot_graphs(history, \"loss\")"
   ]
  },
  {
   "cell_type": "markdown",
   "id": "b6cfe418-8360-4df8-8541-78fc943eebd5",
   "metadata": {
    "id": "b6cfe418-8360-4df8-8541-78fc943eebd5"
   },
   "source": [
    "## Generating new dialogue"
   ]
  },
  {
   "cell_type": "code",
   "execution_count": 122,
   "id": "b6b9b64e-2506-47b4-a782-7f71c7d789e2",
   "metadata": {
    "colab": {
     "base_uri": "https://localhost:8080/"
    },
    "id": "b6b9b64e-2506-47b4-a782-7f71c7d789e2",
    "outputId": "8e093e8c-8681-4ad4-8b22-e692b36b62c1"
   },
   "outputs": [
    {
     "name": "stdout",
     "output_type": "stream",
     "text": [
      "SEED TEXT:\n",
      "=================================================\n",
      "george: well, you got no place to go. i'll tell you what your problem is you brought your queen out \n",
      "=================================================\n",
      "\n"
     ]
    },
    {
     "name": "stderr",
     "output_type": "stream",
     "text": [
      "2022-11-24 19:24:57.748601: I tensorflow/core/grappler/optimizers/custom_graph_optimizer_registry.cc:114] Plugin optimizer for device_type GPU is enabled.\n",
      "2022-11-24 19:24:57.940948: I tensorflow/core/grappler/optimizers/custom_graph_optimizer_registry.cc:114] Plugin optimizer for device_type GPU is enabled.\n",
      "2022-11-24 19:24:57.950694: I tensorflow/core/grappler/optimizers/custom_graph_optimizer_registry.cc:114] Plugin optimizer for device_type GPU is enabled.\n"
     ]
    },
    {
     "name": "stdout",
     "output_type": "stream",
     "text": [
      "PREDICTED TEXT:\n",
      "=================================================\n",
      "george: well, you got no place to go. i'll tell you what your problem is you brought your queen out lchhroitt rrayxrosthe an-lthrm bbout eed youw goo?\n",
      "\n",
      "george: -ehmasxaan\n",
      "\n",
      "\n",
      "jerry: dons tge seking tmand?\n",
      "\n",
      "\n",
      "deaando: vell: haxqeecanf daeg read, iixcxo! lbng djenry bernth y: !\n",
      "\n",
      "\n",
      "\n",
      "kraak: wedd:  wal's nog sk: iuwh: hef tnoww ssff tnac thhctu xarwmdiyxsoumrelq]\n",
      "\n",
      "\n",
      "\n",
      "!eirry: me`lllay: go\n",
      "\n",
      "\n",
      "newhan: th'p noc epqoout , hhan\n",
      "\n",
      "\n",
      "jerrry: , ho tthiaq\n",
      "\n",
      "\n",
      "excanxxo:  reth taa\n",
      "\n",
      "\n",
      "jerry: ualed nry !onrtsc reasge. \n",
      "\n",
      "\n",
      "jerry: rek\n",
      "\n",
      "george: ]\n",
      "\n",
      "jerry: yiu tog.\n",
      "\n",
      "jerry: 3ij. ggonpleidb cto\n",
      "\n",
      "jegry: one am5?\n",
      "\n",
      "newwaan: you , tgiing twlat sthhh's 5bou4 tthhei\n",
      "\n",
      "\n",
      "weaane: hey-lak\n",
      "\n",
      "\n",
      "newmand: oels you bnnt hat lnnow didhhspyou \n",
      "\n",
      "\n",
      "kramee: het`\n",
      "\n",
      "\n",
      "jerry: ang : umankt he, ihxaizh. dyoug3 zhat- noull eve',  tovent:  ?\n",
      "\n",
      "george:  .\n",
      "\n",
      "\n",
      "verry: etla thell` onll: unhf kn herf do?\n",
      "\n",
      "jerry: reylay .\n",
      "\n",
      "\n",
      "\n",
      "kramege: oell ment hirme .\n",
      "\n",
      "jerry: orre5f re, !\n",
      "\n",
      "kramer: hoge.\n",
      "\n",
      "\n",
      "eeiige: . go.\n",
      "\n",
      "\n",
      "4elayd:  thaa,  th ouf juldog!\n",
      "\n",
      "..  o`: hoxlan\n",
      "\n",
      "\n",
      "eebray:  edtlan\n",
      "\n",
      "\n",
      "\n",
      "eesab: an: velacking u]\n",
      "\n",
      "nkramer: cheame`\n",
      "\n",
      "jerry: ht.\n",
      "\n",
      "jerry: that yoo3- onnhp!\n",
      "\n",
      "\n",
      "newmand: yfwe rad3 you\n",
      "\n",
      "nela?\n",
      "\n",
      "jerry: wela. thist 5jeg ing yous !3hatu\n",
      "\n",
      "\n",
      "\n",
      "irank: ull : tha chht's what aou `?\n",
      "\n",
      "\n",
      "dewman: -edyzh, !\n",
      "\n",
      "\n",
      "newman: we apge\n",
      "\n",
      "\n",
      "\n",
      "george: : veaang i5lf es!\n",
      "\n",
      "jerry: 's ooj. \n",
      "\n",
      "\n",
      "jerry: zhooplen. 4iy?\n",
      "\n",
      "\n",
      "kkrameg: : . uaa-l! act z'm ggint.\n",
      "\n",
      "\n",
      "\n",
      "kraay: ane. i go kk thake qoon.\n",
      "\n",
      "\n",
      "george:  kron. rnsse.\n",
      "\n",
      "\n",
      "weacdd: ci[w sge.\n",
      "\n",
      "\n",
      "neerry: ufrelly ha.\n",
      "\n",
      "\n",
      "kraank: uh's fnllmoj. noug ?\n",
      "\n",
      "jerry: an?\n",
      "\n",
      "george: : gedoeri?\n",
      "\n",
      "-erry: thbut.\n",
      "\n",
      "\n",
      "george: is \n",
      "\n",
      "\n",
      "nelaine: well \n",
      "\n",
      "fameroze] hge ight uhat , zhe r: 4eviat\n",
      "=================================================\n"
     ]
    }
   ],
   "source": [
    "%%time\n",
    "\n",
    "characters_to_predict = 1500\n",
    "seed_text = decode(tokenizer, xs[0, :])\n",
    "\n",
    "make_random = True\n",
    "\n",
    "print(f'SEED TEXT:')\n",
    "print('=================================================')\n",
    "print(seed_text)\n",
    "print('=================================================\\n')\n",
    "\n",
    "for i in range(characters_to_predict):\n",
    "    encoded_seed_text = encode(seed_text)\n",
    "    padded_seed_text = np.expand_dims(\n",
    "        pad_sequences([encoded_seed_text], maxlen=seq_length, padding=\"pre\")[0], 0\n",
    "    )\n",
    "    pred = model.predict(padded_seed_text, verbose=0)[0]\n",
    "    \n",
    "    # get the last set of probabilities for the character prediction\n",
    "    preds_for_last_char = pred[-1]\n",
    "    \n",
    "    if make_random:\n",
    "        # Pick a token from a multinomial distribution defined by the output logit layer\n",
    "        token_draw = tf.random.categorical([preds_for_last_char], 1).numpy()[0][0]\n",
    "    else:\n",
    "        # Get the most likely token as the character prediction\n",
    "        token_draw = np.argmax(preds_for_last_char)\n",
    "    \n",
    "    predicted_text = decode(tokenizer, [token_draw])\n",
    "    seed_text += predicted_text\n",
    "\n",
    "print(f'PREDICTED TEXT:')\n",
    "print('=================================================')\n",
    "print(seed_text)\n",
    "print('=================================================')"
   ]
  },
  {
   "cell_type": "code",
   "execution_count": null,
   "id": "a7bdd24a-372f-4d0f-9921-8b6f2c91fbb9",
   "metadata": {
    "id": "a7bdd24a-372f-4d0f-9921-8b6f2c91fbb9"
   },
   "outputs": [],
   "source": []
  }
 ],
 "metadata": {
  "accelerator": "GPU",
  "colab": {
   "provenance": []
  },
  "gpuClass": "standard",
  "kernelspec": {
   "display_name": "tf_py38",
   "language": "python",
   "name": "tf_py38"
  },
  "language_info": {
   "codemirror_mode": {
    "name": "ipython",
    "version": 3
   },
   "file_extension": ".py",
   "mimetype": "text/x-python",
   "name": "python",
   "nbconvert_exporter": "python",
   "pygments_lexer": "ipython3",
   "version": "3.8.13"
  }
 },
 "nbformat": 4,
 "nbformat_minor": 5
}
